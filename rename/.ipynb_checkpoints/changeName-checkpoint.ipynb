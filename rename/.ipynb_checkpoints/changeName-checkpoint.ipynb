{
 "cells": [
  {
   "cell_type": "code",
   "execution_count": 7,
   "id": "82cb228d",
   "metadata": {},
   "outputs": [],
   "source": [
    "import os\n",
    "from os import path, rename\n",
    "localPath = os.path.dirname('/Users/admin/Desktop/')\n",
    "\n",
    "os.rename('/Users/admin/Desktop/'+'20221019.pdf', '/Users/admin/Desktop/'+'493023.pdf')\n",
    "\n"
   ]
  },
  {
   "cell_type": "code",
   "execution_count": 14,
   "id": "e37c0aeb",
   "metadata": {},
   "outputs": [
    {
     "name": "stdout",
     "output_type": "stream",
     "text": [
      "[]\n"
     ]
    }
   ],
   "source": [
    "from os import listdir\n",
    "from os.path import isfile, join\n",
    "\n",
    "onlyfiles = [f for f in listdir('/Users/admin/Desktop/changeNamesFolder/') if isfile(join('/Users/admin/Desktop/changeNamesFolder/', f))]\n",
    "print(onlyfiles)"
   ]
  },
  {
   "cell_type": "code",
   "execution_count": 42,
   "id": "d550d8ad",
   "metadata": {},
   "outputs": [
    {
     "name": "stdout",
     "output_type": "stream",
     "text": [
      "/Users/admin/Desktop/changeNamesFolder/ProdTitleBox.module.scss\n"
     ]
    },
    {
     "ename": "TypeError",
     "evalue": "can only concatenate str (not \"list\") to str",
     "output_type": "error",
     "traceback": [
      "\u001b[0;31m---------------------------------------------------------------------------\u001b[0m",
      "\u001b[0;31mTypeError\u001b[0m                                 Traceback (most recent call last)",
      "\u001b[0;32m/var/folders/w_/g2skz7757yb20pg3vjm_9yv00000gn/T/ipykernel_79743/2375898236.py\u001b[0m in \u001b[0;36m<module>\u001b[0;34m\u001b[0m\n\u001b[1;32m     20\u001b[0m \u001b[0;31m#             os.rename( root +dirs + '/' + file, root +dirs + '/ '+ file.replace('.scss', '.module.scss'))\u001b[0m\u001b[0;34m\u001b[0m\u001b[0;34m\u001b[0m\u001b[0m\n\u001b[1;32m     21\u001b[0m             \u001b[0mprint\u001b[0m\u001b[0;34m(\u001b[0m\u001b[0mmypath\u001b[0m\u001b[0;34m+\u001b[0m \u001b[0mfile\u001b[0m\u001b[0;34m.\u001b[0m\u001b[0mreplace\u001b[0m\u001b[0;34m(\u001b[0m\u001b[0;34m'.scss'\u001b[0m\u001b[0;34m,\u001b[0m \u001b[0;34m'.module.scss'\u001b[0m\u001b[0;34m)\u001b[0m\u001b[0;34m)\u001b[0m\u001b[0;34m\u001b[0m\u001b[0;34m\u001b[0m\u001b[0m\n\u001b[0;32m---> 22\u001b[0;31m             \u001b[0mprint\u001b[0m\u001b[0;34m(\u001b[0m\u001b[0mroot\u001b[0m \u001b[0;34m+\u001b[0m\u001b[0mdirs\u001b[0m \u001b[0;34m+\u001b[0m \u001b[0;34m'/'\u001b[0m \u001b[0;34m+\u001b[0m \u001b[0mfile\u001b[0m\u001b[0;34m)\u001b[0m\u001b[0;34m\u001b[0m\u001b[0;34m\u001b[0m\u001b[0m\n\u001b[0m",
      "\u001b[0;31mTypeError\u001b[0m: can only concatenate str (not \"list\") to str"
     ]
    }
   ],
   "source": [
    "#!/usr/bin/python\n",
    "# -*- coding: utf-8 -*-\n",
    "from os import walk, rename\n",
    "import re\n",
    "\n",
    "\n",
    "# 指定要列出所有檔案的目錄\n",
    "mypath = \"/Users/admin/Desktop/changeNamesFolder/\"\n",
    "\n",
    "# 遞迴列出所有子目錄與檔案\n",
    "for root, dirs, files in walk(mypath):\n",
    "#     print(\"路徑：\", root)\n",
    "#     print(\"  目錄：\", dirs)\n",
    "#     print(\"  檔案：\", files)\n",
    "    for file in files:        \n",
    "        if re.search('.scss', file):\n",
    "            \n",
    "#             print(\"路徑：\", root)\n",
    "#             print(\"  目錄：\", dirs)\n",
    "#             print(\"  檔案：\", files)\n",
    "#             os.rename( root +dirs + '/' + file, root +dirs + '/ '+ file.replace('.scss', '.module.scss'))\n",
    "            print(mypath+ file.replace('.scss', '.module.scss'))\n",
    "#             print(root +dirs + '/' + file)\n",
    "            print(os.path.join(dirPath, f))\n"
   ]
  },
  {
   "cell_type": "code",
   "execution_count": 29,
   "id": "0bb8c561",
   "metadata": {},
   "outputs": [
    {
     "name": "stdout",
     "output_type": "stream",
     "text": [
      "<re.Match object; span=(3, 8), match='.scss'>\n"
     ]
    }
   ],
   "source": [
    " \n",
    "if re.search('.scss','123.scss'):\n",
    "    print(re.search('.scss','123.scss' ))\n"
   ]
  },
  {
   "cell_type": "code",
   "execution_count": null,
   "id": "b3a6903c",
   "metadata": {},
   "outputs": [],
   "source": []
  }
 ],
 "metadata": {
  "kernelspec": {
   "display_name": "Python 3 (ipykernel)",
   "language": "python",
   "name": "python3"
  },
  "language_info": {
   "codemirror_mode": {
    "name": "ipython",
    "version": 3
   },
   "file_extension": ".py",
   "mimetype": "text/x-python",
   "name": "python",
   "nbconvert_exporter": "python",
   "pygments_lexer": "ipython3",
   "version": "3.9.7"
  }
 },
 "nbformat": 4,
 "nbformat_minor": 5
}
